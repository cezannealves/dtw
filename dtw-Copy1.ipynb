{
 "cells": [
  {
   "cell_type": "code",
   "execution_count": 2,
   "metadata": {},
   "outputs": [],
   "source": [
    "def isnotebook():\n",
    "    try:\n",
    "        shell = get_ipython().__class__.__name__\n",
    "        if shell == 'ZMQInteractiveShell':\n",
    "            return True   # Jupyter notebook or qtconsole\n",
    "        elif shell == 'TerminalInteractiveShell':\n",
    "            return False  # Terminal running IPython\n",
    "        else:\n",
    "            return False  # Other type (?)\n",
    "    except NameError:\n",
    "        return False      # Probably standard Python interpreter"
   ]
  },
  {
   "cell_type": "code",
   "execution_count": 7,
   "metadata": {},
   "outputs": [
    {
     "name": "stdout",
     "output_type": "stream",
     "text": [
      "[NbConvertApp] Converting notebook dtw.ipynb to script\n",
      "[NbConvertApp] Writing 1014 bytes to dtw.py\n"
     ]
    }
   ],
   "source": [
    "\n",
    "notebook = isnotebook()   ########## OVERRIDE HERE IF NOT WORKING !!!\n",
    "\n",
    "\n",
    "if notebook:\n",
    "    \n",
    "    # Compile script/modules from notebooks\n",
    "#     !jupyter nbconvert --to script union_find.ipynb\n",
    "    \n",
    "    !jupyter nbconvert --to script dtw.ipynb\n",
    "    \n",
    "#     from sys import stdin\n",
    "#     testFile = open(\"test_case.txt\")\n",
    "#     def testInput():\n",
    "#         return testFile.readline().strip()\n",
    "#     old_stdin, stdin = stdin, testFile\n",
    "#     old_input, input = input, testInput\n",
    "    \n",
    "    import sklearn.metrics as metrics\n",
    "    import matplotlib.pyplot as plt\n",
    "    %matplotlib inline"
   ]
  },
  {
   "cell_type": "code",
   "execution_count": 8,
   "metadata": {},
   "outputs": [],
   "source": [
    "import sys\n",
    "import numpy as np"
   ]
  },
  {
   "cell_type": "code",
   "execution_count": 38,
   "metadata": {},
   "outputs": [],
   "source": []
  },
  {
   "cell_type": "code",
   "execution_count": 252,
   "metadata": {
    "scrolled": true
   },
   "outputs": [
    {
     "data": {
      "text/plain": [
       "array([0.33333 , 0.29167 , 0.29167 , 0.27778 , 0.23611 , 0.22222 ,\n",
       "       0.16667 , 0.13889 , 0.097222, 0.083333, 0.055556, 0.069444,\n",
       "       0.069444, 0.055556, 0.069444, 0.083333, 0.097222, 0.097222,\n",
       "       0.125   , 0.16667 , 0.15278 , 0.15278 , 0.20833 , 0.27778 ,\n",
       "       0.33333 , 0.375   , 0.40278 , 0.44444 , 0.47222 , 0.55556 ,\n",
       "       0.55556 , 0.56944 , 0.55556 , 0.54167 , 0.52778 , 0.55556 ,\n",
       "       0.56944 , 0.59722 , 0.61111 , 0.625   , 0.61111 , 0.56944 ])"
      ]
     },
     "execution_count": 252,
     "metadata": {},
     "output_type": "execute_result"
    }
   ],
   "source": [
    "test = [f.split() for f in open('teste.txt')]\n",
    "test_class = [int(i[0]) for i in test]\n",
    "test_data = [np.fromiter(map(float, l[1:]), float) for l in test]b"
   ]
  },
  {
   "cell_type": "code",
   "execution_count": 253,
   "metadata": {},
   "outputs": [
    {
     "data": {
      "text/plain": [
       "163"
      ]
     },
     "execution_count": 253,
     "metadata": {},
     "output_type": "execute_result"
    }
   ],
   "source": [
    "mlen =0\n",
    "for a in test_data:\n",
    "    mlen = max(mlen, len(a))\n",
    "mlen"
   ]
  },
  {
   "cell_type": "code",
   "execution_count": 139,
   "metadata": {},
   "outputs": [
    {
     "data": {
      "text/plain": [
       "1"
      ]
     },
     "execution_count": 139,
     "metadata": {},
     "output_type": "execute_result"
    }
   ],
   "source": [
    "a = map(int,[1,2,3])\n",
    "next(a)"
   ]
  },
  {
   "cell_type": "code",
   "execution_count": 257,
   "metadata": {},
   "outputs": [],
   "source": [
    "test3d = [f.split() for f in open('teste3D.txt')]"
   ]
  },
  {
   "cell_type": "code",
   "execution_count": 258,
   "metadata": {},
   "outputs": [],
   "source": [
    "test3d_data= [np.array([p for p in zip(*[iter(l[1:])]*3)]).astype(float) for l in test3d]"
   ]
  },
  {
   "cell_type": "code",
   "execution_count": 271,
   "metadata": {},
   "outputs": [
    {
     "name": "stdout",
     "output_type": "stream",
     "text": [
      "0 42 42\n",
      "1 38 40\n",
      "2 40 45\n",
      "3 31 43\n",
      "4 32 38\n",
      "5 39 40\n",
      "6 35 41\n",
      "7 37 42\n",
      "8 36 40\n",
      "9 37 43\n",
      "10 39 36\n",
      "11 40 41\n",
      "12 40 43\n",
      "13 46 41\n",
      "14 40 36\n",
      "15 39 43\n",
      "16 40 42\n",
      "17 36 45\n",
      "18 39 35\n",
      "19 41 32\n",
      "20 42 37\n",
      "21 40 28\n",
      "22 43 38\n",
      "23 38 37\n",
      "24 41 32\n",
      "25 42 40\n",
      "26 40 36\n",
      "27 43 44\n",
      "28 41 43\n",
      "29 43 44\n",
      "30 41 46\n",
      "31 36 32\n",
      "32 43 41\n",
      "33 42 38\n",
      "34 45 44\n",
      "35 35 44\n",
      "36 32 44\n",
      "37 37 49\n",
      "38 28 47\n",
      "39 38 43\n",
      "40 32 49\n",
      "41 40 37\n",
      "42 36 46\n",
      "43 44 47\n",
      "44 43 42\n",
      "45 44 48\n",
      "46 46 50\n",
      "47 38 48\n",
      "48 44 52\n",
      "49 44 50\n",
      "50 44 48\n",
      "51 47 48\n",
      "52 49 49\n",
      "53 46 49\n",
      "54 47 48\n",
      "55 42 50\n",
      "56 48 45\n",
      "57 50 49\n",
      "58 48 45\n",
      "59 50 48\n",
      "60 48 52\n",
      "61 49 54\n",
      "62 49 53\n",
      "63 48 46\n",
      "64 50 49\n",
      "65 45 57\n",
      "66 49 50\n",
      "67 45 28\n",
      "68 48 33\n",
      "69 53 28\n",
      "70 46 35\n",
      "71 49 35\n",
      "72 57 36\n",
      "73 50 35\n",
      "74 39 38\n",
      "75 36 33\n",
      "76 30 32\n",
      "77 31 33\n",
      "78 36 33\n",
      "79 45 37\n",
      "80 46 34\n",
      "81 35 39\n",
      "82 40 41\n",
      "83 40 41\n",
      "84 45 39\n",
      "85 41 38\n",
      "86 39 37\n",
      "87 36 46\n",
      "88 40 45\n",
      "89 37 39\n",
      "90 36 48\n",
      "91 28 41\n",
      "92 38 39\n",
      "93 35 38\n",
      "94 33 43\n",
      "95 34 38\n",
      "96 33 47\n",
      "97 34 48\n",
      "98 28 44\n",
      "99 33 45\n",
      "100 28 36\n",
      "101 35 47\n",
      "102 36 43\n",
      "103 35 41\n",
      "104 33 46\n",
      "105 32 50\n",
      "106 33 47\n",
      "107 33 44\n",
      "108 37 38\n",
      "109 34 42\n",
      "110 39 38\n",
      "111 41 38\n",
      "112 41 44\n",
      "113 39 43\n",
      "114 38 41\n",
      "115 45 40\n",
      "116 39 41\n",
      "117 48 44\n",
      "118 39 37\n",
      "119 38 42\n",
      "120 38 43\n",
      "121 47 39\n",
      "122 48 46\n",
      "123 44 44\n",
      "124 45 43\n",
      "125 43 41\n",
      "126 41 36\n",
      "127 46 45\n",
      "128 50 44\n",
      "129 44 49\n",
      "130 38 44\n",
      "131 42 45\n",
      "132 38 43\n",
      "133 38 46\n",
      "134 44 87\n",
      "135 43 102\n",
      "136 41 92\n",
      "137 40 108\n",
      "138 41 86\n",
      "139 44 94\n",
      "140 37 92\n",
      "141 42 85\n",
      "142 43 93\n",
      "143 39 89\n",
      "144 44 95\n",
      "145 41 85\n",
      "146 36 76\n",
      "147 45 85\n",
      "148 44 85\n",
      "149 49 83\n",
      "150 44 79\n",
      "151 45 105\n",
      "152 97 94\n",
      "153 89 97\n",
      "154 98 93\n",
      "155 86 92\n",
      "156 86 99\n",
      "157 88 105\n",
      "158 87 102\n",
      "159 88 103\n",
      "160 104 96\n",
      "161 90 163\n",
      "162 97 153\n",
      "163 98 129\n",
      "164 94 132\n",
      "165 90 111\n",
      "166 85 139\n",
      "167 88 131\n",
      "168 91 140\n",
      "169 84 133\n",
      "170 88 125\n",
      "171 98 117\n",
      "172 93 121\n",
      "173 84 141\n",
      "174 85 120\n",
      "175 93 121\n",
      "176 96 125\n",
      "177 82 127\n",
      "178 87 134\n",
      "179 102 133\n",
      "180 92 103\n",
      "181 108 111\n",
      "182 86 107\n",
      "183 94 110\n",
      "184 92 96\n",
      "185 85 105\n",
      "186 93 118\n",
      "187 95 104\n",
      "188 76 102\n",
      "189 85 109\n",
      "190 85 107\n",
      "191 83 105\n",
      "192 79 97\n",
      "193 94 100\n",
      "194 97 103\n",
      "195 93 101\n",
      "196 92 91\n",
      "197 99 104\n",
      "198 105 108\n",
      "199 102 102\n",
      "200 103 105\n",
      "201 163 56\n",
      "202 111 49\n",
      "203 139 62\n",
      "204 131 61\n",
      "205 140 48\n",
      "206 133 49\n",
      "207 125 36\n",
      "208 117 47\n",
      "209 121 42\n",
      "210 141 43\n",
      "211 121 42\n",
      "212 134 37\n",
      "213 133 49\n",
      "214 103 39\n",
      "215 111 44\n",
      "216 107 49\n",
      "217 110 49\n",
      "218 96 53\n",
      "219 118 63\n",
      "220 104 55\n",
      "221 107 50\n",
      "222 105 54\n",
      "223 97 49\n",
      "224 103 49\n",
      "225 101 54\n",
      "226 91 55\n",
      "227 108 60\n",
      "228 102 61\n",
      "229 105 68\n",
      "230 55 62\n",
      "231 81 53\n",
      "232 67 55\n",
      "233 68 55\n",
      "234 56 47\n",
      "235 68 50\n",
      "236 64 45\n",
      "237 69 47\n",
      "238 52 41\n",
      "239 48 60\n",
      "240 57 47\n",
      "241 51 54\n",
      "242 56 59\n",
      "243 59 43\n",
      "244 48 51\n",
      "245 49 68\n",
      "246 52 56\n",
      "247 53 56\n",
      "248 49 42\n",
      "249 49 60\n",
      "250 57 53\n",
      "251 53 29\n",
      "252 44 44\n",
      "253 44 50\n",
      "254 49 53\n",
      "255 57 50\n",
      "256 49 32\n",
      "257 62 43\n",
      "258 61 97\n",
      "259 48 85\n",
      "260 49 59\n",
      "261 36 66\n",
      "262 43 62\n",
      "263 42 66\n",
      "264 37 70\n",
      "265 49 74\n",
      "266 39 70\n",
      "267 49 66\n",
      "268 53 112\n",
      "269 63 100\n",
      "270 55 108\n",
      "271 50 96\n",
      "272 54 94\n",
      "273 49 106\n",
      "274 49 111\n",
      "275 54 92\n",
      "276 60 92\n",
      "277 61 91\n",
      "278 68 106\n",
      "279 53 111\n",
      "280 55 100\n",
      "281 55 101\n",
      "282 47 98\n",
      "283 45 98\n",
      "284 41 105\n",
      "285 60 113\n",
      "286 47 104\n",
      "287 54 97\n",
      "288 59 110\n",
      "289 43 110\n",
      "290 51 115\n",
      "291 68 110\n",
      "292 56 107\n",
      "293 56 108\n",
      "294 42 102\n",
      "295 60 106\n",
      "296 53 99\n",
      "297 29 93\n",
      "298 53 98\n",
      "299 50 100\n",
      "300 32 105\n",
      "301 43 105\n",
      "302 66 101\n",
      "303 62 101\n",
      "304 66 103\n",
      "305 70 110\n",
      "306 74 105\n",
      "307 70 103\n",
      "308 66 105\n",
      "309 97 101\n",
      "310 99 104\n",
      "311 101 98\n",
      "312 104 104\n",
      "313 104 105\n",
      "314 103 101\n",
      "315 88 105\n",
      "316 102 100\n",
      "317 101 97\n",
      "318 109 96\n",
      "319 102 100\n",
      "320 95 101\n",
      "321 93 100\n",
      "322 96 98\n",
      "323 108 98\n",
      "324 100 96\n",
      "325 93 102\n",
      "326 100 92\n",
      "327 110 88\n",
      "328 98 89\n",
      "329 104 89\n",
      "330 110 98\n",
      "331 103 92\n",
      "332 99 93\n",
      "333 110 92\n",
      "334 103 90\n",
      "335 96 38\n",
      "336 101 42\n",
      "337 100 34\n",
      "338 108 35\n",
      "339 96 41\n",
      "340 94 38\n",
      "341 106 40\n",
      "342 111 33\n",
      "343 92 40\n",
      "344 92 34\n",
      "345 91 34\n",
      "346 111 33\n",
      "347 101 36\n",
      "348 98 32\n",
      "349 98 39\n",
      "350 105 38\n",
      "351 104 38\n",
      "352 97 38\n",
      "353 110 34\n",
      "354 110 35\n",
      "355 115 37\n",
      "356 110 35\n",
      "357 108 37\n",
      "358 102 32\n",
      "359 106 35\n",
      "360 99 42\n",
      "361 93 41\n",
      "362 98 25\n",
      "363 100 26\n",
      "364 105 26\n",
      "365 105 20\n",
      "366 101 12\n",
      "367 101 22\n",
      "368 110 19\n",
      "369 105 18\n",
      "370 103 27\n",
      "371 105 21\n",
      "372 101 14\n",
      "373 104 3\n",
      "374 98 4\n",
      "375 104 26\n",
      "376 105 26\n",
      "377 101 20\n",
      "378 105 7\n",
      "379 100 20\n",
      "380 97 24\n",
      "381 100 29\n",
      "382 101 33\n",
      "383 100 32\n",
      "384 98 30\n",
      "385 98 25\n",
      "386 96 37\n",
      "387 102 28\n",
      "388 92 26\n",
      "389 88 20\n",
      "390 89 32\n",
      "391 89 31\n",
      "392 98 29\n",
      "393 92 31\n",
      "394 90 21\n",
      "395 45 29\n",
      "396 35 36\n",
      "397 36 29\n",
      "398 41 25\n",
      "399 49 38\n",
      "400 42 44\n",
      "401 36 33\n",
      "402 38 37\n",
      "403 43 33\n",
      "404 42 30\n",
      "405 49 30\n",
      "406 45 37\n",
      "407 44 32\n",
      "408 39 30\n",
      "409 39 22\n",
      "410 31 36\n",
      "411 26 33\n",
      "412 30 37\n",
      "413 39 34\n",
      "414 32 39\n",
      "415 35 29\n",
      "416 42 32\n",
      "417 35 28\n",
      "418 40 31\n",
      "419 34 22\n",
      "420 38 33\n",
      "421 31 39\n",
      "422 39 30\n",
      "423 38 35\n",
      "424 34 28\n",
      "425 35 26\n",
      "426 41 31\n",
      "427 38 32\n",
      "428 40 34\n",
      "429 33 29\n",
      "430 40 40\n",
      "431 34 36\n",
      "432 34 28\n",
      "433 33 33\n",
      "434 36 41\n",
      "435 32 36\n",
      "436 39 45\n",
      "437 38 39\n",
      "438 38 42\n",
      "439 38 41\n",
      "440 34 39\n",
      "441 35 42\n",
      "442 37 43\n",
      "443 35 40\n",
      "444 37 39\n",
      "445 32 44\n",
      "446 35 50\n",
      "447 42 40\n",
      "448 41 48\n",
      "449 26 50\n",
      "450 20 39\n",
      "451 12 39\n",
      "452 22 47\n",
      "453 18 49\n",
      "454 27 54\n",
      "455 21 49\n",
      "456 4 47\n",
      "457 26 49\n",
      "458 26 55\n",
      "459 7 51\n",
      "460 20 45\n",
      "461 33 54\n",
      "462 30 46\n",
      "463 25 41\n",
      "464 37 52\n",
      "465 28 37\n",
      "466 26 48\n",
      "467 31 54\n",
      "468 29 39\n",
      "469 31 96\n",
      "470 21 97\n",
      "471 29 95\n",
      "472 36 104\n",
      "473 29 99\n",
      "474 25 94\n",
      "475 38 106\n",
      "476 44 96\n",
      "477 33 93\n",
      "478 51 100\n",
      "479 51 101\n",
      "480 49 98\n",
      "481 44 96\n",
      "482 37 95\n",
      "483 28 87\n",
      "484 34 95\n",
      "485 46 96\n",
      "486 34 101\n",
      "487 31 94\n",
      "488 41 95\n",
      "489 45 96\n",
      "490 44 90\n",
      "491 38 96\n",
      "492 29 88\n",
      "493 37 100\n",
      "494 34 90\n",
      "495 33 90\n",
      "496 39 103\n",
      "497 35 85\n",
      "498 37 66\n",
      "499 33 77\n",
      "500 30 75\n",
      "501 37 84\n",
      "502 30 85\n",
      "503 22 76\n",
      "504 36 49\n",
      "505 33 47\n",
      "506 37 59\n",
      "507 34 60\n",
      "508 39 62\n",
      "509 29 67\n",
      "510 32 31\n",
      "511 28 62\n",
      "512 31 65\n",
      "513 22 47\n",
      "514 33 54\n",
      "515 39 21\n",
      "516 30 2\n",
      "517 35 20\n",
      "518 28 59\n",
      "519 26 72\n",
      "520 31 65\n",
      "521 32 65\n",
      "522 34 68\n",
      "523 29 67\n",
      "524 40 85\n",
      "525 33 80\n",
      "526 41 78\n",
      "527 36 75\n",
      "528 45 72\n",
      "529 39 80\n",
      "530 42 83\n",
      "531 39 69\n",
      "532 42 82\n",
      "533 43 57\n",
      "534 40 49\n",
      "535 39 45\n",
      "536 44 56\n",
      "537 50 51\n",
      "538 48 47\n",
      "539 50 51\n",
      "540 39 43\n",
      "541 47 46\n",
      "542 49 43\n",
      "543 55 47\n",
      "544 51 45\n",
      "545 45 47\n",
      "546 46 52\n",
      "547 41 49\n",
      "548 52 45\n",
      "549 37 36\n",
      "550 48 44\n",
      "551 54 45\n",
      "552 87 45\n",
      "553 95 54\n",
      "554 89 42\n",
      "555 93 39\n",
      "556 96 44\n",
      "557 87 42\n",
      "558 98 45\n",
      "559 89 42\n",
      "560 84 43\n",
      "561 96 44\n",
      "562 95 43\n",
      "563 96 47\n",
      "564 100 59\n",
      "565 97 51\n",
      "566 101 53\n",
      "567 103 56\n",
      "568 101 51\n",
      "569 85 53\n",
      "570 100 56\n",
      "571 90 53\n",
      "572 98 53\n",
      "573 88 56\n",
      "574 91 59\n",
      "575 89 60\n",
      "576 98 58\n",
      "577 92 58\n",
      "578 96 58\n",
      "579 97 55\n",
      "580 95 55\n",
      "581 104 54\n",
      "582 99 55\n",
      "583 94 50\n",
      "584 106 51\n",
      "585 93 56\n",
      "586 100 57\n",
      "587 101 54\n",
      "588 98 54\n",
      "589 96 62\n",
      "590 87 59\n",
      "591 95 57\n",
      "592 96 52\n",
      "593 101 59\n",
      "594 94 58\n",
      "595 96 55\n",
      "596 90 55\n",
      "597 96 55\n",
      "598 88 58\n",
      "599 100 62\n",
      "600 90 55\n",
      "601 90 55\n",
      "602 103 59\n",
      "603 85 37\n",
      "604 66 26\n",
      "605 77 29\n",
      "606 84 32\n",
      "607 85 34\n",
      "608 49 27\n",
      "609 47 35\n",
      "610 59 28\n",
      "611 60 25\n",
      "612 62 32\n",
      "613 67 33\n",
      "614 31 31\n",
      "615 62 27\n",
      "616 65 30\n",
      "617 47 24\n",
      "618 21 23\n",
      "619 2 38\n",
      "620 20 28\n",
      "621 59 27\n",
      "622 72 20\n",
      "623 65 25\n",
      "624 68 31\n",
      "625 67 29\n",
      "626 85 24\n",
      "627 80 25\n",
      "628 78 29\n",
      "629 75 22\n",
      "630 83 63\n",
      "631 69 47\n",
      "632 82 54\n",
      "633 57 49\n",
      "634 47 49\n",
      "635 45 57\n",
      "636 39 57\n",
      "637 42 53\n",
      "638 37 50\n",
      "639 38 49\n",
      "640 43 58\n",
      "641 42 61\n",
      "642 43 51\n",
      "643 59 59\n",
      "644 46 57\n",
      "645 41 54\n",
      "646 45 58\n",
      "647 44 57\n",
      "648 47 50\n",
      "649 53 56\n",
      "650 47 48\n",
      "651 42 43\n",
      "652 37 54\n",
      "653 35 52\n",
      "654 51 55\n",
      "655 39 53\n",
      "656 45 54\n",
      "657 38 56\n",
      "658 43 54\n",
      "659 43 55\n",
      "660 45 53\n",
      "661 48 50\n",
      "662 49 48\n",
      "663 56 49\n",
      "664 51 52\n",
      "665 47 62\n",
      "666 51 51\n",
      "667 43 43\n",
      "668 46 41\n",
      "669 43 55\n",
      "670 47 42\n",
      "671 47 43\n",
      "672 52 42\n",
      "673 45 46\n",
      "674 36 47\n",
      "675 44 44\n",
      "676 45 44\n",
      "677 45 41\n",
      "678 54 48\n",
      "679 39 45\n",
      "680 44 46\n",
      "681 45 46\n",
      "682 42 37\n",
      "683 43 36\n",
      "684 44 48\n",
      "685 43 46\n",
      "686 47 45\n",
      "687 59 41\n",
      "688 51 43\n",
      "689 53 44\n",
      "690 56 39\n",
      "691 51 41\n",
      "692 53 37\n",
      "693 56 49\n",
      "694 53 38\n",
      "695 53 46\n",
      "696 56 49\n",
      "697 59 56\n",
      "698 60 49\n",
      "699 58 38\n",
      "700 58 41\n",
      "701 58 43\n",
      "702 55 44\n",
      "703 55 48\n",
      "704 54 58\n",
      "705 55 50\n",
      "706 50 50\n",
      "707 51 38\n",
      "708 56 37\n",
      "709 57 46\n",
      "710 54 26\n",
      "711 54 32\n",
      "712 62 20\n",
      "713 59 2\n",
      "714 52 32\n",
      "715 59 34\n",
      "716 58 48\n",
      "717 55 43\n",
      "718 55 46\n",
      "719 58 39\n",
      "720 62 43\n",
      "721 55 43\n",
      "722 55 44\n",
      "723 59 46\n",
      "724 35 57\n",
      "725 42 45\n",
      "726 42 46\n",
      "727 47 47\n",
      "728 57 43\n",
      "729 42 54\n",
      "730 36 53\n",
      "731 38 47\n",
      "732 42 50\n",
      "733 40 61\n",
      "734 36 52\n",
      "735 40 53\n",
      "736 38 62\n",
      "737 33 36\n",
      "738 42 35\n",
      "739 42 46\n",
      "740 41 48\n",
      "741 36 48\n",
      "742 35 44\n",
      "743 38 37\n",
      "744 38 39\n",
      "745 35 36\n",
      "746 30 40\n",
      "747 33 34\n",
      "748 29 36\n",
      "749 27 45\n",
      "750 35 37\n",
      "751 28 35\n",
      "752 28 39\n",
      "753 37 50\n",
      "754 26 51\n",
      "755 34 43\n",
      "756 27 49\n",
      "757 35 47\n",
      "758 28 50\n",
      "759 25 53\n",
      "760 32 45\n",
      "761 33 47\n",
      "762 31 52\n",
      "763 27 51\n",
      "764 30 47\n",
      "765 24 46\n",
      "766 38 45\n",
      "767 28 40\n",
      "768 27 49\n",
      "769 25 43\n",
      "770 31 41\n",
      "771 29 40\n",
      "772 25 45\n",
      "773 29 44\n",
      "774 22 44\n",
      "775 47 40\n",
      "776 54 48\n",
      "777 49 45\n",
      "778 49 49\n",
      "779 57 41\n",
      "780 57 54\n",
      "781 53 49\n",
      "782 50 45\n",
      "783 49 48\n",
      "784 58 47\n",
      "785 51 46\n",
      "786 57 46\n",
      "787 57 47\n",
      "788 50 43\n",
      "789 56 41\n",
      "790 48 45\n",
      "791 43 43\n",
      "792 54 49\n",
      "793 52 46\n",
      "794 55 50\n",
      "795 53 56\n",
      "796 54 49\n",
      "797 56 50\n",
      "798 54 52\n",
      "799 53 49\n",
      "800 52 46\n",
      "801 62 53\n",
      "802 43 46\n",
      "803 41 49\n"
     ]
    }
   ],
   "source": [
    "mlen =0\n",
    "for i, a, b in zip(range(len(test_data)),test_data, test3d_data):\n",
    "    print(i,len(a), len(b))\n",
    "    "
   ]
  },
  {
   "cell_type": "code",
   "execution_count": 298,
   "metadata": {},
   "outputs": [
    {
     "data": {
      "text/plain": [
       "array([ 0.45833   ,  0.29166333, -0.7083366 ])"
      ]
     },
     "execution_count": 298,
     "metadata": {},
     "output_type": "execute_result"
    }
   ],
   "source": [
    "test_data[0][0]-test3d_data[0][0]"
   ]
  },
  {
   "cell_type": "code",
   "execution_count": 266,
   "metadata": {},
   "outputs": [
    {
     "data": {
      "text/plain": [
       "1.049966864609442"
      ]
     },
     "execution_count": 266,
     "metadata": {},
     "output_type": "execute_result"
    }
   ],
   "source": [
    "a= test3d_data[0][0]\n"
   ]
  },
  {
   "cell_type": "code",
   "execution_count": 272,
   "metadata": {},
   "outputs": [
    {
     "data": {
      "text/plain": [
       "array([[-0.20833333,  0.5416667 ,  0.5833333 ],\n",
       "       [-0.41666666,  0.7916667 ,  1.2083334 ],\n",
       "       [-0.5416667 ,  0.9583333 ,  1.7916666 ]])"
      ]
     },
     "execution_count": 272,
     "metadata": {},
     "output_type": "execute_result"
    }
   ],
   "source": [
    "test3d_data[373]"
   ]
  },
  {
   "cell_type": "code",
   "execution_count": 256,
   "metadata": {},
   "outputs": [
    {
     "data": {
      "text/plain": [
       "array([[0.33333 , 0.29167 , 0.29167 ],\n",
       "       [0.27778 , 0.23611 , 0.22222 ],\n",
       "       [0.16667 , 0.13889 , 0.097222],\n",
       "       [0.083333, 0.055556, 0.069444],\n",
       "       [0.069444, 0.055556, 0.069444],\n",
       "       [0.083333, 0.097222, 0.097222],\n",
       "       [0.125   , 0.16667 , 0.15278 ],\n",
       "       [0.15278 , 0.20833 , 0.27778 ],\n",
       "       [0.33333 , 0.375   , 0.40278 ],\n",
       "       [0.44444 , 0.47222 , 0.55556 ],\n",
       "       [0.55556 , 0.56944 , 0.55556 ],\n",
       "       [0.54167 , 0.52778 , 0.55556 ],\n",
       "       [0.56944 , 0.59722 , 0.61111 ],\n",
       "       [0.625   , 0.61111 , 0.56944 ]])"
      ]
     },
     "execution_count": 256,
     "metadata": {},
     "output_type": "execute_result"
    }
   ],
   "source": [
    "test3d_data[0]"
   ]
  },
  {
   "cell_type": "code",
   "execution_count": 245,
   "metadata": {},
   "outputs": [],
   "source": [
    "a, b = np.array(10), np.array(25)"
   ]
  },
  {
   "cell_type": "code",
   "execution_count": 246,
   "metadata": {},
   "outputs": [
    {
     "data": {
      "text/plain": [
       "15.0"
      ]
     },
     "execution_count": 246,
     "metadata": {},
     "output_type": "execute_result"
    }
   ],
   "source": [
    "np.linalg.norm(a-b)b"
   ]
  },
  {
   "cell_type": "code",
   "execution_count": null,
   "metadata": {},
   "outputs": [],
   "source": [
    "# lots of print\n",
    "\n",
    "def dtw(q, c, w=1, tresh=None, log=0):\n",
    "    if len(c)<len(q):\n",
    "        q, c = c, q\n",
    "    \n",
    "    #M definido em algum lugar  M = [max(len(q))*2][3]\n",
    "    #Talvez compense trocar as dimensões de M pra ver ser acelera\n",
    "    #W em píxels/células entre [0, len(q)-1] inclusivo\n",
    "    w= round((len(q)-1)*w)\n",
    "    m = (len(q)-1)/(len(c)-1)\n",
    "    \n",
    "    print('len(q), len(c): ',len(q), len(c))\n",
    "    norm = dist3d if type(q[0]) == list else dist1d\n",
    "    \n",
    "    if log: L = [[float(log)]*(len(c)+1) for i in range(len(q)*2)]\n",
    "    \n",
    "    for i,_ in enumerate(q):\n",
    "        M[i][-1%2]=float('inf')\n",
    "        if log: L[i][-1] = float('inf')\n",
    "    \n",
    "    M[-1][-1%2] = 0 # caso base\n",
    "    if log: L[-1][-1] =0\n",
    "    print('m:',m)\n",
    "#     print()\n",
    "    for j in range(len(c)):\n",
    "        y=round(m*j)\n",
    "#         try:\n",
    "        M[y-w-1][j%2] = M[y+w+1][j%2] = float('inf') # with enouth padding doesn't need to check for borders\n",
    "        try:\n",
    "            if log: L[y-w-1][j] = L[y+w+1][j] = float('inf')\n",
    "        except Exception as e:\n",
    "            print(i,j)\n",
    "            raise e\n",
    "        dist = float('inf')\n",
    "        print('j, y, y-w, y+w+1',j, y, y-w,y+w+1)\n",
    "        for i in range(max(0,y-w), min(y+w+1,len(q))):\n",
    "#             M[i][j%2] = np.linalg.norm(q[i]-c[j]) \\ # numpy arrays were elegant for varible dimensions but too slow\n",
    "            print('computing ',(i,j))\n",
    "            M[i][j%2] = norm(q[i],c[j]) \\\n",
    "            + min(M[i][(j-1)%2], M[i-1][(j-1)%2], M[i-1][j%2])\n",
    "            dist = min(dist, M[i][j%2])\n",
    "            if log: L[i][j]=M[i][j%2]\n",
    "        if tresh and dist >= tresh:\n",
    "            return(float('inf'))\n",
    "#         print(dist)\n",
    "    if log: return L, dist\n",
    "    return(dist)"
   ]
  },
  {
   "cell_type": "code",
   "execution_count": 474,
   "metadata": {},
   "outputs": [],
   "source": [
    "def dtw(q, c, w=1, tresh=None, log=False):\n",
    "    if len(c)<len(q):\n",
    "        q, c = c, q\n",
    "    \n",
    "    #M definido em algum lugar  M = [max(len(q))*2][3]\n",
    "    #Talvez compense trocar as dimensões de M pra ver ser acelera\n",
    "    #W em píxels/células entre [0, len(q)-1] inclusivo\n",
    "    w= round((len(q)-1)*w)\n",
    "    m = len(q)/len(c)\n",
    "    \n",
    "    M[-1][-1%2] = 0 # caso base\n",
    "    \n",
    "    for j in range(len(c)):\n",
    "        y=round(m*j)\n",
    "#         try:\n",
    "        M[y-w-1][j%2] = M[y+w+1][j%2] = float('inf') # with enouth padding doesn't need to check for borders\n",
    "        if log: L[y-w-1][j] = L[y+w+1][j] = float(-5)\n",
    "#         print('# col',j)\n",
    "#         print(\"j,y,w,len(q),len(c)\")\n",
    "#         print(j,y,w,len(q),len(c))\n",
    "#         print('pad',((y-w-1)%len(M),j), (y+w+1,j%2) )\n",
    "#         except Exception as e:\n",
    "#             print(\"i,j,y,w,len(q),len(c)\")\n",
    "#             print(i,j,y,w,len(q),len(c))\n",
    "#             return e\n",
    "        dist = float('inf')\n",
    "        for i in range(max(0,y-w), min(y+w+1,len(q))):\n",
    "            M[i][j%2] = np.linalg.norm(q[i]-c[j]) \\\n",
    "            + min(M[i][(j-1)%2], M[i-1][(j-1)%2], M[i-1][j%2])\n",
    "            dist = min(dist, M[i][j%2])\n",
    "            if log: L[i][j]=M[i][j%2]\n",
    "#             print(\"i,j,y,w,len(q),len(c)\")\n",
    "#             print(i,j,y,w,len(q),len(c))\n",
    "#             print(M[i][(j-1)%2],\"<\")\n",
    "#             print(M[i-1][(j-1)%2],\"/\")\n",
    "#             print(M[i-1][(j-1)%2],\"v\")\n",
    "        if tresh and dist >= tresh:\n",
    "            return(float('inf'))\n",
    "#         print(dist)\n",
    "    return(dist)\n",
    "            \n",
    "            "
   ]
  },
  {
   "cell_type": "code",
   "execution_count": 300,
   "metadata": {
    "scrolled": true
   },
   "outputs": [],
   "source": [
    "test = [f.split() for f in open('teste.txt')]\n",
    "test_class = [int(i[0]) for i in test]\n",
    "test_data = [np.fromiter(map(float, l[1:]), float) for l in test]"
   ]
  },
  {
   "cell_type": "code",
   "execution_count": 306,
   "metadata": {},
   "outputs": [
    {
     "data": {
      "text/plain": [
       "38"
      ]
     },
     "execution_count": 306,
     "metadata": {},
     "output_type": "execute_result"
    }
   ],
   "source": [
    "len(test_data[1])"
   ]
  },
  {
   "cell_type": "code",
   "execution_count": 332,
   "metadata": {},
   "outputs": [
    {
     "data": {
      "text/plain": [
       "38.0"
      ]
     },
     "execution_count": 332,
     "metadata": {},
     "output_type": "execute_result"
    }
   ],
   "source": [
    "len(M)/2"
   ]
  },
  {
   "cell_type": "code",
   "execution_count": 485,
   "metadata": {},
   "outputs": [],
   "source": [
    "if []: print(\"sdfs\")"
   ]
  },
  {
   "cell_type": "code",
   "execution_count": 356,
   "metadata": {},
   "outputs": [
    {
     "data": {
      "text/plain": [
       "1"
      ]
     },
     "execution_count": 356,
     "metadata": {},
     "output_type": "execute_result"
    }
   ],
   "source": [
    "(-1)%2"
   ]
  },
  {
   "cell_type": "code",
   "execution_count": 468,
   "metadata": {},
   "outputs": [],
   "source": [
    "M = [[float('inf')]*3 for i in range((38*2))]"
   ]
  },
  {
   "cell_type": "code",
   "execution_count": 493,
   "metadata": {},
   "outputs": [],
   "source": [
    "L = [[0.0]*(38*2) for i in range((38*2))]"
   ]
  },
  {
   "cell_type": "code",
   "execution_count": 412,
   "metadata": {},
   "outputs": [],
   "source": [
    "M[-1][1]=0"
   ]
  },
  {
   "cell_type": "code",
   "execution_count": 495,
   "metadata": {},
   "outputs": [
    {
     "data": {
      "text/plain": [
       "3.611124"
      ]
     },
     "execution_count": 495,
     "metadata": {},
     "output_type": "execute_result"
    }
   ],
   "source": [
    "dtw(test_data[1], test_data[0], 0,log=True)"
   ]
  },
  {
   "cell_type": "code",
   "execution_count": 497,
   "metadata": {},
   "outputs": [
    {
     "data": {
      "text/plain": [
       "<matplotlib.image.AxesImage at 0x7fa4cf661f98>"
      ]
     },
     "execution_count": 497,
     "metadata": {},
     "output_type": "execute_result"
    },
    {
     "data": {
      "image/png": "[encoded data removed]",
      "text/plain": [
       "<Figure size 1080x1080 with 1 Axes>"
      ]
     },
     "metadata": {},
     "output_type": "display_data"
    }
   ],
   "source": [
    "plt.figure(figsize=(15,15))\n",
    "plt.imshow(np.array((L))[::-1])"
   ]
  },
  {
   "cell_type": "code",
   "execution_count": 400,
   "metadata": {},
   "outputs": [
    {
     "data": {
      "text/plain": [
       "inf"
      ]
     },
     "execution_count": 400,
     "metadata": {},
     "output_type": "execute_result"
    }
   ],
   "source": [
    "d"
   ]
  },
  {
   "cell_type": "code",
   "execution_count": 387,
   "metadata": {},
   "outputs": [],
   "source": [
    "T= [[1,2,3],\n",
    "    [4,5,6],\n",
    "    [7,8,9]]"
   ]
  },
  {
   "cell_type": "code",
   "execution_count": 391,
   "metadata": {},
   "outputs": [
    {
     "data": {
      "text/plain": [
       "1"
      ]
     },
     "execution_count": 391,
     "metadata": {},
     "output_type": "execute_result"
    }
   ],
   "source": [
    "T[-3][0]"
   ]
  },
  {
   "cell_type": "code",
   "execution_count": 169,
   "metadata": {
    "scrolled": true
   },
   "outputs": [
    {
     "data": {
      "text/plain": [
       "[['1',\n",
       "  '0.33333',\n",
       "  '0.29167',\n",
       "  '0.29167',\n",
       "  '0.27778',\n",
       "  '0.23611',\n",
       "  '0.22222',\n",
       "  '0.16667',\n",
       "  '0.13889',\n",
       "  '0.097222',\n",
       "  '0.083333',\n",
       "  '0.055556',\n",
       "  '0.069444',\n",
       "  '0.069444',\n",
       "  '0.055556',\n",
       "  '0.069444',\n",
       "  '0.083333',\n",
       "  '0.097222',\n",
       "  '0.097222',\n",
       "  '0.125',\n",
       "  '0.16667',\n",
       "  '0.15278',\n",
       "  '0.15278',\n",
       "  '0.20833',\n",
       "  '0.27778',\n",
       "  '0.33333',\n",
       "  '0.375',\n",
       "  '0.40278',\n",
       "  '0.44444',\n",
       "  '0.47222',\n",
       "  '0.55556',\n",
       "  '0.55556',\n",
       "  '0.56944',\n",
       "  '0.55556',\n",
       "  '0.54167',\n",
       "  '0.52778',\n",
       "  '0.55556',\n",
       "  '0.56944',\n",
       "  '0.59722',\n",
       "  '0.61111',\n",
       "  '0.625',\n",
       "  '0.61111',\n",
       "  '0.56944'],\n",
       " ['1',\n",
       "  '0.33333',\n",
       "  '0.29167',\n",
       "  '0.29167',\n",
       "  '0.27778',\n",
       "  '0.23611',\n",
       "  '0.22222',\n",
       "  '0.16667',\n",
       "  '0.13889',\n",
       "  '0.097222',\n",
       "  '0.083333',\n",
       "  '0.055556',\n",
       "  '0.069444',\n",
       "  '0.069444',\n",
       "  '0.055556',\n",
       "  '0.069444',\n",
       "  '0.083333',\n",
       "  '0.097222',\n",
       "  '0.097222',\n",
       "  '0.125',\n",
       "  '0.16667',\n",
       "  '0.15278',\n",
       "  '0.15278',\n",
       "  '0.20833',\n",
       "  '0.27778',\n",
       "  '0.33333',\n",
       "  '0.375',\n",
       "  '0.40278',\n",
       "  '0.44444',\n",
       "  '0.47222',\n",
       "  '0.55556',\n",
       "  '0.55556',\n",
       "  '0.56944',\n",
       "  '0.55556',\n",
       "  '0.54167',\n",
       "  '0.52778',\n",
       "  '0.55556',\n",
       "  '0.56944',\n",
       "  '0.59722',\n",
       "  '0.61111',\n",
       "  '0.625',\n",
       "  '0.61111',\n",
       "  '0.56944'],\n",
       " ['1',\n",
       "  '0.33333',\n",
       "  '0.29167',\n",
       "  '0.29167',\n",
       "  '0.27778',\n",
       "  '0.23611',\n",
       "  '0.22222',\n",
       "  '0.16667',\n",
       "  '0.13889',\n",
       "  '0.097222',\n",
       "  '0.083333',\n",
       "  '0.055556',\n",
       "  '0.069444',\n",
       "  '0.069444',\n",
       "  '0.055556',\n",
       "  '0.069444',\n",
       "  '0.083333',\n",
       "  '0.097222',\n",
       "  '0.097222',\n",
       "  '0.125',\n",
       "  '0.16667',\n",
       "  '0.15278',\n",
       "  '0.15278',\n",
       "  '0.20833',\n",
       "  '0.27778',\n",
       "  '0.33333',\n",
       "  '0.375',\n",
       "  '0.40278',\n",
       "  '0.44444',\n",
       "  '0.47222',\n",
       "  '0.55556',\n",
       "  '0.55556',\n",
       "  '0.56944',\n",
       "  '0.55556',\n",
       "  '0.54167',\n",
       "  '0.52778',\n",
       "  '0.55556',\n",
       "  '0.56944',\n",
       "  '0.59722',\n",
       "  '0.61111',\n",
       "  '0.625',\n",
       "  '0.61111',\n",
       "  '0.56944']]"
      ]
     },
     "execution_count": 169,
     "metadata": {},
     "output_type": "execute_result"
    }
   ],
   "source": [
    "[l]*3"
   ]
  },
  {
   "cell_type": "code",
   "execution_count": 185,
   "metadata": {},
   "outputs": [],
   "source": [
    "l = [i for i in range(10)]"
   ]
  },
  {
   "cell_type": "code",
   "execution_count": 243,
   "metadata": {},
   "outputs": [
    {
     "data": {
      "text/plain": [
       "(1, 1, 1)"
      ]
     },
     "execution_count": 243,
     "metadata": {},
     "output_type": "execute_result"
    }
   ],
   "source": [
    "(1,)*3"
   ]
  },
  {
   "cell_type": "code",
   "execution_count": 186,
   "metadata": {},
   "outputs": [
    {
     "data": {
      "text/plain": [
       "[0, 1, 2, 3, 4, 5, 6, 7, 8, 9]"
      ]
     },
     "execution_count": 186,
     "metadata": {},
     "output_type": "execute_result"
    }
   ],
   "source": [
    "l"
   ]
  },
  {
   "cell_type": "code",
   "execution_count": 234,
   "metadata": {},
   "outputs": [],
   "source": [
    "z = zip(*[l]*3)"
   ]
  },
  {
   "cell_type": "code",
   "execution_count": 242,
   "metadata": {},
   "outputs": [
    {
     "data": {
      "text/plain": [
       "(7, 7, 7)"
      ]
     },
     "execution_count": 242,
     "metadata": {},
     "output_type": "execute_result"
    }
   ],
   "source": [
    "next(z)"
   ]
  },
  {
   "cell_type": "code",
   "execution_count": null,
   "metadata": {},
   "outputs": [],
   "source": []
  },
  {
   "cell_type": "code",
   "execution_count": 112,
   "metadata": {},
   "outputs": [],
   "source": [
    "test3d_class = [int(i[0]) for i in test3d]"
   ]
  },
  {
   "cell_type": "code",
   "execution_count": null,
   "metadata": {},
   "outputs": [],
   "source": []
  },
  {
   "cell_type": "code",
   "execution_count": 108,
   "metadata": {},
   "outputs": [
    {
     "data": {
      "text/plain": [
       "array(<zip object at 0x7fa4d25578c8>, dtype=object)"
      ]
     },
     "execution_count": 108,
     "metadata": {},
     "output_type": "execute_result"
    }
   ],
   "source": [
    "np.array(zip([1,2,3],[4,5,6]))"
   ]
  },
  {
   "cell_type": "code",
   "execution_count": 109,
   "metadata": {},
   "outputs": [
    {
     "name": "stdout",
     "output_type": "stream",
     "text": [
      "(1, 4) (2, 5) (3, 6)\n"
     ]
    }
   ],
   "source": [
    "print(*zip([1,2,3],[4,5,6]))"
   ]
  },
  {
   "cell_type": "code",
   "execution_count": 111,
   "metadata": {},
   "outputs": [
    {
     "data": {
      "text/plain": [
       "960"
      ]
     },
     "execution_count": 111,
     "metadata": {},
     "output_type": "execute_result"
    }
   ],
   "source": [
    "len(test3d_data)"
   ]
  },
  {
   "cell_type": "code",
   "execution_count": 79,
   "metadata": {},
   "outputs": [
    {
     "data": {
      "text/plain": [
       "array([1, 2, 3])"
      ]
     },
     "execution_count": 79,
     "metadata": {},
     "output_type": "execute_result"
    }
   ],
   "source": [
    "np.linalg.norm()"
   ]
  },
  {
   "cell_type": "code",
   "execution_count": 88,
   "metadata": {},
   "outputs": [
    {
     "ename": "NameError",
     "evalue": "name 'Inf' is not defined",
     "output_type": "error",
     "traceback": [
      "\u001b[0;31m---------------------------------------------------------------------------\u001b[0m",
      "\u001b[0;31mNameError\u001b[0m                                 Traceback (most recent call last)",
      "\u001b[0;32m<ipython-input-88-1e747a45fb04>\u001b[0m in \u001b[0;36m<module>\u001b[0;34m()\u001b[0m\n\u001b[0;32m----> 1\u001b[0;31m \u001b[0mInf\u001b[0m\u001b[0;34m\u001b[0m\u001b[0m\n\u001b[0m",
      "\u001b[0;31mNameError\u001b[0m: name 'Inf' is not defined"
     ]
    }
   ],
   "source": []
  },
  {
   "cell_type": "code",
   "execution_count": 64,
   "metadata": {},
   "outputs": [
    {
     "data": {
      "text/plain": [
       "<zip at 0x7fa4d25400c8>"
      ]
     },
     "execution_count": 64,
     "metadata": {},
     "output_type": "execute_result"
    }
   ],
   "source": [
    "zip(*[iter(test3d[0])]*2)"
   ]
  },
  {
   "cell_type": "code",
   "execution_count": 40,
   "metadata": {},
   "outputs": [
    {
     "data": {
      "text/plain": [
       "['1',\n",
       " '0.33333',\n",
       " '0.29167',\n",
       " '0.29167',\n",
       " '0.27778',\n",
       " '0.23611',\n",
       " '0.22222',\n",
       " '0.16667',\n",
       " '0.13889',\n",
       " '0.097222',\n",
       " '0.083333',\n",
       " '0.055556',\n",
       " '0.069444',\n",
       " '0.069444',\n",
       " '0.055556',\n",
       " '0.069444',\n",
       " '0.083333',\n",
       " '0.097222',\n",
       " '0.097222',\n",
       " '0.125',\n",
       " '0.16667',\n",
       " '0.15278',\n",
       " '0.15278',\n",
       " '0.20833',\n",
       " '0.27778',\n",
       " '0.33333',\n",
       " '0.375',\n",
       " '0.40278',\n",
       " '0.44444',\n",
       " '0.47222',\n",
       " '0.55556',\n",
       " '0.55556',\n",
       " '0.56944',\n",
       " '0.55556',\n",
       " '0.54167',\n",
       " '0.52778',\n",
       " '0.55556',\n",
       " '0.56944',\n",
       " '0.59722',\n",
       " '0.61111',\n",
       " '0.625',\n",
       " '0.61111',\n",
       " '0.56944']"
      ]
     },
     "execution_count": 40,
     "metadata": {},
     "output_type": "execute_result"
    }
   ],
   "source": [
    "test[0]"
   ]
  },
  {
   "cell_type": "code",
   "execution_count": 32,
   "metadata": {},
   "outputs": [],
   "source": [
    "a = ''\n",
    "a.split()"
   ]
  },
  {
   "cell_type": "code",
   "execution_count": null,
   "metadata": {},
   "outputs": [],
   "source": []
  },
  {
   "cell_type": "code",
   "execution_count": null,
   "metadata": {},
   "outputs": [],
   "source": [
    "if len(sys.argv) < 3:\n",
    "    print (\"usage: python3 dtw.py [--3d] test_file train_file\")\n",
    "    input()\n",
    "    exit()\n",
    "\n",
    "if argv[2]=='--3d':\n",
    "    test = open(argv[3])\n",
    "    train = open(argv[4])\n",
    "else:\n",
    "    test = open(argv[2])\n",
    "    train = open(argv[3])"
   ]
  }
 ],
 "metadata": {
  "kernelspec": {
   "display_name": "Python 3",
   "language": "python",
   "name": "python3"
  },
  "language_info": {
   "codemirror_mode": {
    "name": "ipython",
    "version": 3
   },
   "file_extension": ".py",
   "mimetype": "text/x-python",
   "name": "python",
   "nbconvert_exporter": "python",
   "pygments_lexer": "ipython3",
   "version": "3.6.7"
  }
 },
 "nbformat": 4,
 "nbformat_minor": 2
}
