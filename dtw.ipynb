{
 "cells": [
  {
   "cell_type": "code",
   "execution_count": 1,
   "metadata": {},
   "outputs": [],
   "source": [
    "def isnotebook():\n",
    "    try:\n",
    "        shell = get_ipython().__class__.__name__\n",
    "        if shell == 'ZMQInteractiveShell':\n",
    "            return True   # Jupyter notebook or qtconsole\n",
    "        elif shell == 'TerminalInteractiveShell':\n",
    "            return False  # Terminal running IPython\n",
    "        else:\n",
    "            return False  # Other type (?)\n",
    "    except NameError:\n",
    "        return False      # Probably standard Python interpreter"
   ]
  },
  {
   "cell_type": "code",
   "execution_count": 2,
   "metadata": {},
   "outputs": [
    {
     "name": "stderr",
     "output_type": "stream",
     "text": [
      "[NbConvertApp] Converting notebook dtw.ipynb to script\n",
      "[NbConvertApp] Writing 8165 bytes to dtw.py\n"
     ]
    }
   ],
   "source": [
    "\n",
    "notebook = isnotebook()   ########## OVERRIDE HERE IF NOT WORKING !!!\n",
    "\n",
    "\n",
    "if notebook:\n",
    "    \n",
    "    # Compile script/modules from notebooks\n",
    "#     !jupyter nbconvert --to script union_find.ipynb\n",
    "    \n",
    "    !jupyter nbconvert --to script dtw.ipynb\n",
    "    \n",
    "#     from sys import stdin\n",
    "#     testFile = open(\"test_case.txt\")\n",
    "#     def testInput():\n",
    "#         return testFile.readline().strip()\n",
    "#     old_stdin, stdin = stdin, testFile\n",
    "#     old_input, input = input, testInput\n",
    "    \n",
    "    import sklearn.metrics as metrics\n",
    "    import matplotlib.pyplot as plt\n",
    "    %matplotlib inline"
   ]
  },
  {
   "cell_type": "code",
   "execution_count": 3,
   "metadata": {},
   "outputs": [],
   "source": [
    "import sys\n",
    "import numpy as np\n",
    "from time import time\n"
   ]
  },
  {
   "cell_type": "markdown",
   "metadata": {},
   "source": [
    "## Algorithms"
   ]
  },
  {
   "cell_type": "code",
   "execution_count": 4,
   "metadata": {
    "code_folding": [
     0
    ]
   },
   "outputs": [],
   "source": [
    "# Core Functions\n",
    "def dist1d(a, b):\n",
    "    return (a-b)**2\n",
    "\n",
    "def dist3d(a, b):\n",
    "    return (a[0]-b[0])**2 + (a[1]-b[1])**2 + (a[2]-b[2])**2\n",
    "\n",
    "def dtw(q, c, w=1, tresh=None, log=0):\n",
    "    if len(c)<len(q):\n",
    "        q, c = c, q\n",
    "    \n",
    "    # M Global  M = [max(len(q))*2][2]\n",
    "    #Talvez compense trocar as dimensões de M pra ver ser acelera\n",
    "    \n",
    "    w= round((len(q)-1)*w) # band width between [0, len(q)-1] inclusivo\n",
    "    m = (len(q)-1)/(len(c)-1) # line slope\n",
    "    \n",
    "    norm = dist3d if type(q[0]) == list else dist1d\n",
    "    \n",
    "    if log: L = [[float(log)]*(len(c)+1) for i in range(len(q)+2)]\n",
    "    \n",
    "    for i,_ in enumerate(q):\n",
    "        M[i][-1%2]=float('inf')\n",
    "        if log: L[i][-1] = float('inf')\n",
    "    \n",
    "    M[-1][-1%2] = 0 # caso base\n",
    "    if log: L[-1][-1] =0\n",
    "        \n",
    "    for j in range(len(c)):\n",
    "        y=round(m*j) # center of band\n",
    "        M[max(-1,y-w-1)][j%2] = M[min(y+w+1,len(q))][j%2] = float('inf')\n",
    "        if log: L[max(-1,y-w-1)][j] = L[min(y+w+1,len(q))][j] = float('inf')\n",
    "        \n",
    "        dist = float('inf')\n",
    "        for i in range(max(0,y-w), min(y+w+1,len(q))):\n",
    "#             M[i][j%2] = np.linalg.norm(q[i]-c[j]) \\ # numpy arrays were elegant for varible dimensions but too slow for many operations\n",
    "            M[i][j%2] = norm(q[i],c[j]) \\\n",
    "            + min(M[i][(j-1)%2], M[i-1][(j-1)%2], M[i-1][j%2])\n",
    "            if log: L[i][j]=M[i][j%2]\n",
    "            dist = min(dist, M[i][j%2])\n",
    "        if tresh and dist >= tresh:\n",
    "            return(float('inf'))\n",
    "        \n",
    "    if log: return L, dist\n",
    "    return(dist)\n",
    "\n",
    "def nn(q, train, w, prune=True):\n",
    "    dist = float('inf')\n",
    "    closer = None\n",
    "    for i, c in enumerate(train):\n",
    "        aux = dtw(q, c, w, dist if prune else None)\n",
    "        if aux < dist:\n",
    "            dist, closer = aux, i\n",
    "    return closer\n",
    "            "
   ]
  },
  {
   "cell_type": "markdown",
   "metadata": {},
   "source": [
    "## CLI behaviour"
   ]
  },
  {
   "cell_type": "code",
   "execution_count": 6,
   "metadata": {},
   "outputs": [],
   "source": [
    "if not notebook:\n",
    "    \n",
    "\n",
    "    if len(sys.argv) < 3:\n",
    "        print (\n",
    "        \"usage: python3 dtw.py [--3d] test_file train_file [Satoe_window] \\n\\\n",
    "        Will use the first ellement in test_file as query ellement,\\n\\\n",
    "        and return the nearest neighbor in train\\\n",
    "        Satoe_indow is 0 to 1 inclusive\"\n",
    "        )\n",
    "        \n",
    "        input()\n",
    "        exit()\n",
    "        \n",
    "    w=1\n",
    "    d3 = false\n",
    "    if argv[2]=='--3d':\n",
    "        test = open(argv[3])\n",
    "        train = open(argv[4])\n",
    "        d3 = true\n",
    "    else:\n",
    "        test = open(argv[2])\n",
    "        train = open(argv[3])\n",
    "    \n",
    "    \n",
    "    if not d3:\n",
    "        test = [f.split() for f in test]\n",
    "        test_class = [int(i[0]) for i in test]\n",
    "        test_data = [list(map(float, l[1:])) for l in test]\n",
    "        \n",
    "        train = [f.split() for f in train]\n",
    "        train_class = [int(i[0]) for i in train]\n",
    "        train_data = [list(map(float, l[1:])) for l in train]\n",
    "    else:\n",
    "        test3d = [f.split() for f in test]\n",
    "        test_class = [int(i[0]) for i in test3d]\n",
    "        test_data= [[ list(map(float,p)) for p in zip(*[iter(l[1:])]*3)] for l in test3d]\n",
    "        \n",
    "        train3d = [f.split() for f in train]\n",
    "        train_class = [int(i[0]) for i in train3d]\n",
    "        train_data= [ [list(map(float,p)) for p in zip(*[iter(l[1:])]*3)] for l in train3d]\n",
    "        \n",
    "    \n",
    "        closest = nn(test_data[0],train_data)\n",
    "\n",
    "        \n",
    "        \n",
    "    exit()"
   ]
  },
  {
   "cell_type": "markdown",
   "metadata": {},
   "source": [
    "## Plot Function"
   ]
  },
  {
   "cell_type": "code",
   "execution_count": 7,
   "metadata": {
    "code_folding": []
   },
   "outputs": [],
   "source": [
    "# Plot function\n",
    "\n",
    "# colormap\n",
    "from matplotlib.colors import LinearSegmentedColormap\n",
    "\n",
    "cdict = {'red':   ((0.0,  0.1, 0.8),\n",
    "                   (1e-5,  0.0, 0.0),\n",
    "                   (0.4,  1.0, 1.0),\n",
    "                   (1.0,  1.0, 1.0),\n",
    "                  ),\n",
    "\n",
    "         'green': ((0.0,  0.1, 0.8),\n",
    "                   (1e-5,  1.0, 1.0),\n",
    "                   (0.6,  1.0, 1.0),\n",
    "                   (1.0,  0.1, 0.1),\n",
    "                  ),\n",
    "\n",
    "         'blue':  ((0.0,  0.1, 0.8),\n",
    "                   (1e-5,  0.0, 0.0),\n",
    "                   (1.0,  0.0, 0.0))}\n",
    "cmap = LinearSegmentedColormap('ggr', cdict)\n",
    "\n",
    "\n",
    "def plot(L, start=0, cm=cmap, colorbar = False):\n",
    "\n",
    "\n",
    "    L = np.roll(L,-start,(0,1))\n",
    "\n",
    "    plt.figure(figsize=(15,15))\n",
    "    plt.imshow(np.array((L))[::-1],cmap=cm)\n",
    "    ax = plt.gca()\n",
    "    ax.set_xticks(np.arange(.5, len(L[0])-1, 1))\n",
    "    ax.set_yticks(np.arange(.5, len(L)-1, 1))\n",
    "    ax.set_xticklabels('')\n",
    "    ax.set_yticklabels('')\n",
    "    ax.yaxis.set_ticks_position('both')\n",
    "    ax.xaxis.set_ticks_position('both')\n",
    "\n",
    "    ax.set_xticks(np.arange(len(L[0])), minor=True )\n",
    "    ax.set_yticks(np.arange(len(L)), minor=True)\n",
    "    ax.set_xticklabels(np.arange(len(L[0]))+start, minor=True)\n",
    "    ax.set_yticklabels((np.arange(len(L))+start)[::-1], minor= True)\n",
    "\n",
    "    ax.tick_params(which='minor', labeltop=True, labelright=True)\n",
    "\n",
    "\n",
    "    ax.grid(color='gray', linestyle='-', linewidth=2)\n",
    "    if colorbar: plt.colorbar()\n",
    "    plt.show()\n",
    "    plt.close() \n",
    "\n",
    "\n",
    "# L, d = dtw(test3d_data[366],train3d_data[0], w=.5,log=-5)\n",
    "# print(d)\n",
    "# plot(L)"
   ]
  },
  {
   "cell_type": "markdown",
   "metadata": {},
   "source": [
    "# Loading test files"
   ]
  },
  {
   "cell_type": "code",
   "execution_count": 8,
   "metadata": {
    "scrolled": true
   },
   "outputs": [],
   "source": [
    "test = [f.split() for f in open('teste.txt')]\n",
    "test_class = [int(i[0]) for i in test]\n",
    "test_data = [list(map(float, l[1:])) for l in test]"
   ]
  },
  {
   "cell_type": "code",
   "execution_count": 9,
   "metadata": {
    "scrolled": true
   },
   "outputs": [],
   "source": [
    "train = [f.split() for f in open('treino.txt')]\n",
    "train_class = [int(i[0]) for i in train]\n",
    "train_data = [list(map(float, l[1:])) for l in train]"
   ]
  },
  {
   "cell_type": "code",
   "execution_count": 10,
   "metadata": {},
   "outputs": [],
   "source": [
    "test3d = [f.split() for f in open('teste3D.txt')]\n",
    "test3d_class = [int(i[0]) for i in test3d]\n",
    "test3d_data= [[ list(map(float,p)) for p in zip(*[iter(l[1:])]*3)] for l in test3d]"
   ]
  },
  {
   "cell_type": "code",
   "execution_count": 11,
   "metadata": {},
   "outputs": [],
   "source": [
    "train3d = [f.split() for f in open('treino3D.txt')]\n",
    "train3d_class = [int(i[0]) for i in train3d]\n",
    "train3d_data= [ [list(map(float,p)) for p in zip(*[iter(l[1:])]*3)] for l in train3d]"
   ]
  },
  {
   "cell_type": "code",
   "execution_count": 12,
   "metadata": {},
   "outputs": [],
   "source": [
    "height = np.max([len(l) for l in test_data+train_data+test3d_data+train3d_data])\n",
    "M = [[float('inf')]*2 for i in range(height+2)]"
   ]
  },
  {
   "cell_type": "markdown",
   "metadata": {},
   "source": [
    "## Example"
   ]
  },
  {
   "cell_type": "markdown",
   "metadata": {},
   "source": [
    "Example of dtw computation. the log flag instantiates a log matrix. Without it only 2 colums are instantiated. The value of the flag is the value of the empty cells used to customize the color."
   ]
  },
  {
   "cell_type": "code",
   "execution_count": 13,
   "metadata": {
    "scrolled": true
   },
   "outputs": [
    {
     "name": "stdout",
     "output_type": "stream",
     "text": [
      "91.36978922016687\n"
     ]
    },
    {
     "data": {
      "image/png": "[encoded data removed]",
      "text/plain": [
       "<Figure size 1080x1080 with 1 Axes>"
      ]
     },
     "metadata": {
      "needs_background": "light"
     },
     "output_type": "display_data"
    }
   ],
   "source": [
    "L, d = dtw(test3d_data[366],train3d_data[0], w=.5,log=-5)\n",
    "print(d)\n",
    "plot(L)"
   ]
  },
  {
   "cell_type": "markdown",
   "metadata": {},
   "source": [
    "## Benchmarks"
   ]
  },
  {
   "cell_type": "code",
   "execution_count": null,
   "metadata": {
    "code_folding": [
     0
    ]
   },
   "outputs": [],
   "source": [
    "# Benchmark 1D\n",
    "M = [[float('inf')]*3 for i in range((200*2))]\n",
    "results=[[\"w\", \"precision\", \"time\"]]\n",
    "start=time()\n",
    "last = start\n",
    "for w in [0,.01,.05,.1,.2,.5,1]:\n",
    "    hits=0\n",
    "    for i, q in enumerate(test_data):\n",
    "        nearest = nn(q, train_data, w)\n",
    "        if test_class[i] == train_class[nearest]:\n",
    "            hits+=1\n",
    "    prec = hits/len(test_data)\n",
    "    current = time()\n",
    "    results.append([w,prec,current-last])\n",
    "    print('w:',w,', precision:', prec,'time:', current-last)\n",
    "    last=current\n",
    "    \n",
    "np.save('results1d-list', results)\n"
   ]
  },
  {
   "cell_type": "code",
   "execution_count": null,
   "metadata": {
    "code_folding": [
     0
    ]
   },
   "outputs": [],
   "source": [
    "# Benchmark 3D\n",
    "\n",
    "M = [[float('inf')]*3 for i in range((200*2))]\n",
    "results=[[\"w\", \"precision\", \"time\"]]\n",
    "start=time()\n",
    "last = start\n",
    "for w in [0,.01,.05,.1,.2,.5,1]:\n",
    "    hits=0\n",
    "    for i, q in enumerate(test3d_data):\n",
    "        nearest = nn(q, train3d_data, w )\n",
    "        if test3d_class[i] == train3d_class[nearest]:\n",
    "            hits+=1\n",
    "    prec = hits/len(test3d_data)\n",
    "    current = time()\n",
    "    results.append([w,prec,current-last])\n",
    "    print('w:',w,', precision:', prec,'time:', current-last)\n",
    "    last=current\n",
    "    \n",
    "np.save('results3d-list', results)\n"
   ]
  }
 ],
 "metadata": {
  "kernelspec": {
   "display_name": "Python 3",
   "language": "python",
   "name": "python3"
  },
  "language_info": {
   "codemirror_mode": {
    "name": "ipython",
    "version": 3
   },
   "file_extension": ".py",
   "mimetype": "text/x-python",
   "name": "python",
   "nbconvert_exporter": "python",
   "pygments_lexer": "ipython3",
   "version": "3.6.7"
  }
 },
 "nbformat": 4,
 "nbformat_minor": 2
}
